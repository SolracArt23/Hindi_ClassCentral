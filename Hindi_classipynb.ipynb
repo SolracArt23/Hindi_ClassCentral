{
  "nbformat": 4,
  "nbformat_minor": 0,
  "metadata": {
    "colab": {
      "provenance": [],
      "authorship_tag": "ABX9TyPQi9sRQhlZQuBrnvr7Uvaa",
      "include_colab_link": true
    },
    "kernelspec": {
      "name": "python3",
      "display_name": "Python 3"
    },
    "language_info": {
      "name": "python"
    }
  },
  "cells": [
    {
      "cell_type": "markdown",
      "metadata": {
        "id": "view-in-github",
        "colab_type": "text"
      },
      "source": [
        "<a href=\"https://colab.research.google.com/github/SolracArt23/Hindi_ClassCentral/blob/main/Hindi_classipynb.ipynb\" target=\"_parent\"><img src=\"https://colab.research.google.com/assets/colab-badge.svg\" alt=\"Open In Colab\"/></a>"
      ]
    },
    {
      "cell_type": "markdown",
      "source": [
        "\n",
        "## translation function\n",
        "****"
      ],
      "metadata": {
        "id": "irYtbtpgD0nl"
      }
    },
    {
      "cell_type": "code",
      "source": [
        "import requests\n",
        "import json\n",
        "import numpy as np\n",
        "import time\n",
        "from bs4 import BeautifulSoup\n",
        "import os\n",
        "\n",
        "def translate(texto):\n",
        "    url = \"https://translate.googleapis.com/translate_a/single?client=gtx&sl=auto&tl=hi&dt=t&q=\"+texto\n",
        "    response = requests.get(url)\n",
        "    if response.status_code == 200:\n",
        "        response_json = response.json()\n",
        "        return response_json[0][0][0]\n",
        "    else:\n",
        "        return \"Error\"\n",
        "\n",
        "\n"
      ],
      "metadata": {
        "id": "yCe68Hr4TJMT"
      },
      "execution_count": null,
      "outputs": []
    },
    {
      "cell_type": "markdown",
      "source": [
        "## HTTrack\n",
        "***"
      ],
      "metadata": {
        "id": "T9Px9vcsEEPL"
      }
    },
    {
      "cell_type": "code",
      "source": [
        "#install httrack\n",
        "! sudo apt-get install httrack"
      ],
      "metadata": {
        "id": "c8Q5h0hsESpY"
      },
      "execution_count": null,
      "outputs": []
    },
    {
      "cell_type": "code",
      "source": [
        "#copy classcenter\n",
        "! httrack --depth=2 --path= https://www.classcentral.com\n"
      ],
      "metadata": {
        "colab": {
          "base_uri": "https://localhost:8080/"
        },
        "id": "KcfyUO7_EZv4",
        "outputId": "13fe87d2-70d6-4cd0-fcff-eaaa3bb545e5"
      },
      "execution_count": null,
      "outputs": [
        {
          "output_type": "stream",
          "name": "stdout",
          "text": [
            "WARNING! You are running this program as root!\n",
            "It might be a good idea to run as a different user\n",
            "Mirror launched on Thu, 09 Feb 2023 15:51:26 by HTTrack Website Copier/3.49-2 [XR&CO'2014]\n",
            "mirroring https://www.classcentral.com with the wizard help..\n",
            "Done.\n",
            "Thanks for using HTTrack!\n"
          ]
        }
      ]
    },
    {
      "cell_type": "code",
      "source": [
        "#created new folder\n",
        "! mkdir Solution\n",
        "\n",
        "#copy all contents for the new folder\n",
        "! cp -r /content/www.classcentral.com Solution"
      ],
      "metadata": {
        "id": "1PY9p3xCu8RD"
      },
      "execution_count": null,
      "outputs": []
    },
    {
      "cell_type": "markdown",
      "source": [
        "##The importatn area\n",
        "***"
      ],
      "metadata": {
        "id": "0GpYgfy95QCc"
      }
    },
    {
      "cell_type": "markdown",
      "source": [
        "### Objective 1: Search the all html files\n",
        "\n",
        "\n",
        "\n"
      ],
      "metadata": {
        "id": "0iUXrv_aG3tH"
      }
    },
    {
      "cell_type": "code",
      "source": [
        "def search_files(path):\n",
        "    files_list = []\n",
        "    for root, dirs, files in os.walk(path):\n",
        "        #search the all files\n",
        "        for file in files:\n",
        "            #comprobate if the files is html\n",
        "            if file.endswith(\".html\"):\n",
        "                #add of the list\n",
        "                files_list.append(os.path.join(root, file))\n",
        "    return files_list"
      ],
      "metadata": {
        "id": "WMWrkNNYF_2P"
      },
      "execution_count": null,
      "outputs": []
    },
    {
      "cell_type": "code",
      "source": [
        "urls = search_files('/content/www.classcentral.com')\n"
      ],
      "metadata": {
        "id": "4mo6Vwld6HBN"
      },
      "execution_count": null,
      "outputs": []
    },
    {
      "cell_type": "markdown",
      "source": [
        "### Search and translate function\n",
        "***"
      ],
      "metadata": {
        "id": "LoRYMCc8E9bt"
      }
    },
    {
      "cell_type": "code",
      "source": [
        "def replace_tag_hi(html):\n",
        "    soup = BeautifulSoup(html, 'html.parser')\n",
        "    tags = soup.find_all(['p', 'h1', 'h2', 'h3', 'h4', 'h5', 'a','title','label'])\n",
        "    for p in tags:\n",
        "        try:\n",
        "          p.string = translate(p.get_text())\n",
        "        except:pass\n",
        "    return str(soup)\n",
        "\n",
        "\n",
        "\n"
      ],
      "metadata": {
        "id": "duQbilsa9j5y"
      },
      "execution_count": null,
      "outputs": []
    },
    {
      "cell_type": "markdown",
      "source": [
        "### Translate an compress the result\n",
        "***"
      ],
      "metadata": {
        "id": "dlFswpinFEr6"
      }
    },
    {
      "cell_type": "code",
      "source": [
        "for url in urls:\n",
        "  with open(url,'r+') as file:\n",
        "    page=file.read()\n",
        "    new_page=replace_tag_hi(page)\n",
        "    with open(\"/content/Solution\"+url[len('content '):],'w+') as file_2:\n",
        "      file_2.write(new_page)\n",
        "      file_2.close()\n",
        "\n",
        "    file.close()\n",
        "    print(url)"
      ],
      "metadata": {
        "colab": {
          "base_uri": "https://localhost:8080/"
        },
        "id": "3wRdFlHg-LdN",
        "outputId": "9d6ec62a-8b70-41a2-a528-b89c91a80aaf"
      },
      "execution_count": null,
      "outputs": [
        {
          "output_type": "stream",
          "name": "stdout",
          "text": [
            "/content/www.classcentral.com/starting-this-month.html\n",
            "/content/www.classcentral.com/signup.html\n",
            "/content/www.classcentral.com/providers.html\n",
            "/content/www.classcentral.com/subjects.html\n",
            "/content/www.classcentral.com/help.html\n",
            "/content/www.classcentral.com/login.html\n",
            "/content/www.classcentral.com/rankings.html\n",
            "/content/www.classcentral.com/about.html\n",
            "/content/www.classcentral.com/lists.html\n",
            "/content/www.classcentral.com/contact.html\n",
            "/content/www.classcentral.com/collections.html\n",
            "/content/www.classcentral.com/universities.html\n",
            "/content/www.classcentral.com/index.html\n",
            "/content/www.classcentral.com/institutions.html\n",
            "/content/www.classcentral.com/new-online-courses/january-2023.html\n",
            "/content/www.classcentral.com/coordinator/index.html\n",
            "/content/www.classcentral.com/provider/coursera.html\n",
            "/content/www.classcentral.com/provider/futurelearn.html\n",
            "/content/www.classcentral.com/provider/udacity.html\n",
            "/content/www.classcentral.com/provider/edx.html\n",
            "/content/www.classcentral.com/provider/udemy.html\n",
            "/content/www.classcentral.com/provider/linkedin-learning.html\n",
            "/content/www.classcentral.com/provider/swayam.html\n",
            "/content/www.classcentral.com/provider/skillshare.html\n",
            "/content/www.classcentral.com/enrollee-list/update-item-progress/index.html\n",
            "/content/www.classcentral.com/collection/top-free-online-courses.html\n",
            "/content/www.classcentral.com/collection/ivy-league-moocs.html\n",
            "/content/www.classcentral.com/collection/sustainability-online-courses.html\n",
            "/content/www.classcentral.com/collection/ivy-league-moocs/index.html\n",
            "/content/www.classcentral.com/maestro/course-reviews/index.html\n",
            "/content/www.classcentral.com/delete-item/index.html\n",
            "/content/www.classcentral.com/course/el-rol-de-la-digitalizacion-en-la-transicion-ener-48104.html\n",
            "/content/www.classcentral.com/course/hy-2353.html\n",
            "/content/www.classcentral.com/course/edx-basic-spanish-1-getting-started-3698.html\n",
            "/content/www.classcentral.com/institution/smithsonian.html\n",
            "/content/www.classcentral.com/institution/ibm.html\n",
            "/content/www.classcentral.com/institution/microsoft.html\n",
            "/content/www.classcentral.com/institution/amazon.html\n",
            "/content/www.classcentral.com/institution/british-council.html\n",
            "/content/www.classcentral.com/institution/google.html\n",
            "/content/www.classcentral.com/institution/united-nations.html\n",
            "/content/www.classcentral.com/institution/salesforce.html\n",
            "/content/www.classcentral.com/institution/linuxfoundation.html\n",
            "/content/www.classcentral.com/university/edinburgh.html\n",
            "/content/www.classcentral.com/university/purdue.html\n",
            "/content/www.classcentral.com/university/iit-kharagpur.html\n",
            "/content/www.classcentral.com/university/cornell.html\n",
            "/content/www.classcentral.com/university/umich.html\n",
            "/content/www.classcentral.com/university/stanford.html\n",
            "/content/www.classcentral.com/university/rice.html\n",
            "/content/www.classcentral.com/university/gatech.html\n",
            "/content/www.classcentral.com/university/penn.html\n",
            "/content/www.classcentral.com/university/iitm.html\n",
            "/content/www.classcentral.com/university/duke.html\n",
            "/content/www.classcentral.com/university/columbia.html\n",
            "/content/www.classcentral.com/university/harvard.html\n",
            "/content/www.classcentral.com/university/mit.html\n",
            "/content/www.classcentral.com/cdn-cgi/l/email-protection.html\n",
            "/content/www.classcentral.com/report/index.html\n",
            "/content/www.classcentral.com/report/feed/index.html\n",
            "/content/www.classcentral.com/report/best-free-online-courses-2022/index.html\n",
            "/content/www.classcentral.com/report/udemy-new-ceo/index.html\n",
            "/content/www.classcentral.com/report/most-popular-february-2023/index.html\n",
            "/content/www.classcentral.com/report/domestika-layoffs/index.html\n",
            "/content/www.classcentral.com/report/coursera-free-online-courses/index.html\n",
            "/content/www.classcentral.com/report/most-popular-courses-2023/index.html\n",
            "/content/www.classcentral.com/report/best-japanese-courses/index.html\n",
            "/content/www.classcentral.com/report/india-online-degrees/index.html\n",
            "/content/www.classcentral.com/report/best-erlang-courses/index.html\n",
            "/content/www.classcentral.com/report/harvard-cs50-guide/index.html\n",
            "/content/www.classcentral.com/report/udemy-top-courses/index.html\n",
            "/content/www.classcentral.com/report/best-kubernetes-courses/index.html\n",
            "/content/www.classcentral.com/report/futurelearn-expands-paywall/index.html\n",
            "/content/www.classcentral.com/report/chinese-mooc-platforms/index.html\n",
            "/content/www.classcentral.com/report/thinkific-layoffs/index.html\n",
            "/content/www.classcentral.com/report/category/best-courses/index.html\n",
            "/content/www.classcentral.com/report/best-css-animation-courses/index.html\n",
            "/content/www.classcentral.com/report/100-most-popular-online-courses-2021/index.html\n",
            "/content/www.classcentral.com/report/most-popular-online-courses/index.html\n",
            "/content/www.classcentral.com/report/linkedin-learning-free-learning-paths/index.html\n",
            "/content/www.classcentral.com/report/free-certificates/index.html\n"
          ]
        }
      ]
    },
    {
      "cell_type": "code",
      "source": [
        "! zip -r archivo.zip /content/Solution/www.classcentral.com"
      ],
      "metadata": {
        "id": "yhqq_Ss__7H9"
      },
      "execution_count": null,
      "outputs": []
    }
  ]
}